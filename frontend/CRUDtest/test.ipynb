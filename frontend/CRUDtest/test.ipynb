{
 "cells": [
  {
   "cell_type": "code",
   "execution_count": 1,
   "metadata": {},
   "outputs": [],
   "source": [
    "import requests\n",
    "\n",
    "def obtener_peliculas():\n",
    "  \"\"\"\n",
    "  Esta función se modifica para realizar una petición al API en lugar de realizar la consulta directamente.\n",
    "  \"\"\"\n",
    "\n",
    "  # URL del API\n",
    "  url = \"http://127.0.0.1:8000/movies\"\n",
    "\n",
    "  # Realizar la petición GET al API\n",
    "  respuesta = requests.get(url)\n",
    "\n",
    "  # Si la respuesta es exitosa\n",
    "  if respuesta.status_code == 200:\n",
    "\n",
    "    # Convertir la respuesta JSON a un objeto de Python\n",
    "    peliculas = respuesta.json()\n",
    "\n",
    "    # Devolver la lista de películas\n",
    "    return peliculas\n",
    "\n",
    "  # Si la respuesta no es exitosa\n",
    "  else:\n",
    "\n",
    "    # Imprimir un mensaje de error\n",
    "    print(f\"Error al obtener las películas: {respuesta.status_code}\")\n",
    "\n",
    "    # Devolver una lista vacía\n",
    "    return []\n",
    "\n",
    "peliculas = obtener_peliculas()"
   ]
  },
  {
   "cell_type": "code",
   "execution_count": 7,
   "metadata": {},
   "outputs": [
    {
     "name": "stdout",
     "output_type": "stream",
     "text": [
      "{'title': 'asdfasdf', 'overview': 'asdfsadf de 15 caracteres', 'year': '2020', 'rating': '9.5', 'category': 'Aventura'}\n",
      "b'{\"message\":\"Se ha registrado la pel\\xc3\\xadcula\"}'\n",
      "Movie saved successfully!\n"
     ]
    }
   ],
   "source": [
    "def savedata():\n",
    "      try:\n",
    "        # Gather data from input fields\n",
    "        data = {'title': 'asdfasdf', 'overview': 'asdfsadf de 15 caracteres', 'year': '2020', 'rating': '9.5', 'category': 'Aventura'}\n",
    "\n",
    "        # Send POST request to the API\n",
    "        url = \"http://127.0.0.1:8000/movies\"\n",
    "        print(data)\n",
    "        response = requests.post(url, json=data)\n",
    "        print(response.content)\n",
    "        response.raise_for_status()  # Raise exception for error responses\n",
    "\n",
    "        print(\"Movie saved successfully!\")\n",
    "\n",
    "        # Clear existing rows, fetch data again, update UI elements        \n",
    "\n",
    "      except requests.exceptions.RequestException as err:\n",
    "        print(f\"Error saving movie: {err}\")\n",
    "            # Handle the error gracefully, e.g., display an error message to the user\n",
    "      except Exception as e:\n",
    "        print(f\"An unexpected error occurred: {e}\")\n",
    "savedata()"
   ]
  },
  {
   "cell_type": "code",
   "execution_count": null,
   "metadata": {},
   "outputs": [],
   "source": []
  },
  {
   "cell_type": "code",
   "execution_count": 2,
   "metadata": {},
   "outputs": [
    {
     "data": {
      "text/plain": [
       "[{'id': 3,\n",
       "  'overview': 'Descripción de la película',\n",
       "  'category': 'Acción',\n",
       "  'rating': 9.8,\n",
       "  'title': 'Mi película 3',\n",
       "  'year': 2022},\n",
       " {'id': 4,\n",
       "  'overview': 'Descripción de la película',\n",
       "  'category': 'Acción',\n",
       "  'rating': 9.8,\n",
       "  'title': 'Mi película 3',\n",
       "  'year': 2022},\n",
       " {'id': 5,\n",
       "  'overview': 'Descripción de la película',\n",
       "  'category': 'Acción',\n",
       "  'rating': 5.2,\n",
       "  'title': 'Mi película 3',\n",
       "  'year': 2022},\n",
       " {'id': 6,\n",
       "  'overview': 'Descripción de la película',\n",
       "  'category': 'Acción',\n",
       "  'rating': 5.2,\n",
       "  'title': 'Mi película 3',\n",
       "  'year': 2022},\n",
       " {'id': 7,\n",
       "  'overview': 'Descripcion corta',\n",
       "  'category': 'Romantica',\n",
       "  'rating': 5.2,\n",
       "  'title': 'Descripcion 2',\n",
       "  'year': 2000},\n",
       " {'id': 8,\n",
       "  'overview': 'Descripcion de Peli',\n",
       "  'category': 'Accion',\n",
       "  'rating': 5.6,\n",
       "  'title': 'Otra pelicula,limite',\n",
       "  'year': 2021}]"
      ]
     },
     "execution_count": 2,
     "metadata": {},
     "output_type": "execute_result"
    }
   ],
   "source": [
    "peliculas"
   ]
  }
 ],
 "metadata": {
  "kernelspec": {
   "display_name": "base",
   "language": "python",
   "name": "python3"
  },
  "language_info": {
   "codemirror_mode": {
    "name": "ipython",
    "version": 3
   },
   "file_extension": ".py",
   "mimetype": "text/x-python",
   "name": "python",
   "nbconvert_exporter": "python",
   "pygments_lexer": "ipython3",
   "version": "3.11.7"
  }
 },
 "nbformat": 4,
 "nbformat_minor": 2
}
